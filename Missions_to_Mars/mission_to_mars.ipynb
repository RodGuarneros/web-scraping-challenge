{
 "cells": [
  {
   "cell_type": "markdown",
   "metadata": {},
   "source": [
    "# Setep 1 - Scraping"
   ]
  },
  {
   "cell_type": "code",
   "execution_count": 1,
   "metadata": {},
   "outputs": [],
   "source": [
    "#Dependencies\n",
    "import pandas as pd\n",
    "from splinter import Browser\n",
    "from bs4 import BeautifulSoup as bs\n",
    "import requests\n",
    "import re\n",
    "from webdriver_manager.chrome import ChromeDriverManager\n",
    "import time"
   ]
  },
  {
   "cell_type": "markdown",
   "metadata": {},
   "source": [
    "## NASA Mars News\n",
    "Scrape the NASA Mars News Site and collect the latest News Title and Paragraph Text. Assign the text to variables that you can reference later."
   ]
  },
  {
   "cell_type": "code",
   "execution_count": 8,
   "metadata": {},
   "outputs": [
    {
     "name": "stderr",
     "output_type": "stream",
     "text": [
      "[WDM] - Current google-chrome version is 87.0.4280\n",
      "[WDM] - Get LATEST driver version for 87.0.4280\n",
      "[WDM] - Driver [D:\\Users\\rodrigo.guarneros.IFT\\.wdm\\drivers\\chromedriver\\win32\\87.0.4280.88\\chromedriver.exe] found in cache\n"
     ]
    },
    {
     "name": "stdout",
     "output_type": "stream",
     "text": [
      " \n"
     ]
    }
   ],
   "source": [
    "# Set Executable Path & Initialize Chrome Browser\n",
    "executable_path = {\"executable_path\": ChromeDriverManager().install()}\n",
    "browser = Browser(\"chrome\", **executable_path, headless=False)\n"
   ]
  },
  {
   "cell_type": "code",
   "execution_count": 9,
   "metadata": {},
   "outputs": [],
   "source": [
    "# defining url and objects to scrap\n",
    "url = \"https://mars.nasa.gov/news/\"\n",
    "# variables: news_title and news paragraph\n",
    "# making a request\n",
    "browser.visit(url)\n",
    "html = browser.html\n",
    "soup = bs(html, \"html.parser\")"
   ]
  },
  {
   "cell_type": "markdown",
   "metadata": {},
   "source": [
    "#### NASA Mars News"
   ]
  },
  {
   "cell_type": "code",
   "execution_count": 12,
   "metadata": {},
   "outputs": [
    {
     "name": "stdout",
     "output_type": "stream",
     "text": [
      "5 Hidden Gems Are Riding Aboard NASA's Perseverance Rover\n",
      "The symbols, mottos, and small objects added to the agency's newest Mars rover serve a variety of purposes, from functional to decorative.\n"
     ]
    }
   ],
   "source": [
    "# latest News Title \n",
    "#Alternative\n",
    "#news_titles = []\n",
    "#for x in soup.find_all(\"div\", class_=\"content_title\"):\n",
    "#    news_titles.append(x.text)\n",
    "#news_titles[1]\n",
    "news_paragraph = \"\"\n",
    "    # Repeating process for the paragraph string because the first time it fails in load the complete code\n",
    "while news_paragraph == \"\":\n",
    "    browser.visit(\"https://mars.nasa.gov/news/?page=0&per_page=40&order=publish_date+desc%2Ccreated_at+desc&search=&category=19%2C165%2C184%2C204&blank_scope=Latest\")\n",
    "    browser.is_element_present_by_tag('LI', wait_time=10)\n",
    "    html = browser.html\n",
    "    soup = bs(html, \"html.parser\")\n",
    "# Storing First image, header and brief from the first News element.\n",
    "# We get the second [1] element for the header because the first one with the same class is not related to any News\n",
    "    try:\n",
    "        news_header = soup.find_all(\"div\",class_=\"content_title\")[1].text.strip()\n",
    "        news_paragraph =  soup.find(\"div\",class_=\"article_teaser_body\").text.strip()\n",
    "    except:\n",
    "        news_paragraph = \"\"\n",
    "print(news_header)\n",
    "print(news_paragraph)"
   ]
  },
  {
   "cell_type": "markdown",
   "metadata": {},
   "source": [
    "#### JPL Mars Space Images - Featured Image"
   ]
  },
  {
   "cell_type": "code",
   "execution_count": 15,
   "metadata": {},
   "outputs": [],
   "source": [
    "# Visit the url for JPL Featured Space Image here.\n",
    "# defining url and objects to scrap\n",
    "url2 = \"https://www.jpl.nasa.gov/spaceimages/?search=&category=Mars\"\n",
    "browser.visit(url2)\n",
    "html2 = browser.html\n",
    "soup2 = bs(html2, \"html.parser\")"
   ]
  },
  {
   "cell_type": "code",
   "execution_count": 26,
   "metadata": {},
   "outputs": [
    {
     "data": {
      "text/plain": [
       "'https://www.jpl.nasa.gov/spaceimages/images/mediumsize/PIA19048_ip.jpg'"
      ]
     },
     "execution_count": 26,
     "metadata": {},
     "output_type": "execute_result"
    }
   ],
   "source": [
    "#Use splinter to navigate the site and find the image \n",
    "# url for the current Featured Mars Image and assign \n",
    "# the url string to a variable called featured_image_url.\n",
    "jpl_mainpage = \"https://www.jpl.nasa.gov\"\n",
    "# We get the a tag with a unique id, and then we extract the first element containing the href link\n",
    "featured_image = soup2.find_all(\"a\", id=\"full_image\")\n",
    "featured_image = jpl_mainpage + featured_image[0][\"data-fancybox-href\"]\n",
    "main_dict[\"ft_img\"] = featured_image\n",
    "featured_image"
   ]
  },
  {
   "cell_type": "markdown",
   "metadata": {},
   "source": [
    "#### Mars Weather"
   ]
  },
  {
   "cell_type": "code",
   "execution_count": 18,
   "metadata": {},
   "outputs": [],
   "source": [
    "# visiting the URL\n",
    "url = \"https://twitter.com/marswxreport?lang=en\"\n",
    "browser.visit(url)\n",
    "# Parse Results HTML with BeautifulSoup\n",
    "html3 = browser.html\n",
    "weather = bs(html3, \"html.parser\")"
   ]
  },
  {
   "cell_type": "code",
   "execution_count": 20,
   "metadata": {},
   "outputs": [
    {
     "name": "stdout",
     "output_type": "stream",
     "text": [
      "InSight sol 699 (2020-11-13) low -97.8ºC (-144.1ºF) high -9.9ºC (14.1ºF)\n",
      "winds from the WNW at 4.2 m/s (9.4 mph) gusting to 14.2 m/s (31.8 mph)\n",
      "pressure at 7.30 hPa\n"
     ]
    }
   ],
   "source": [
    "# Looking for the \"Insight sol\" string \n",
    "latest_tweet = \"None\"\n",
    "browser.visit(\"https://twitter.com/marswxreport?lang=en\")\n",
    "browser.execute_script(\"window.scrollTo(1, document.body.scrollHeight);\")\n",
    "# Checking if latest_tweet already has the content need\n",
    "while latest_tweet == \"None\":\n",
    "    time.sleep(2)\n",
    "    # Scrolling down \n",
    "    browser.execute_script(\"window.scrollTo(1, document.body.scrollHeight);\")\n",
    "    html = browser.html\n",
    "    soup = bs(html, \"html.parser\")\n",
    "    # The list to iterate from all the tags\n",
    "    article_list = []\n",
    "# find all the tags with this specifications\n",
    "    articles = soup.find_all(\"span\", class_=\"css-901oao\")\n",
    "\n",
    "# getting text of each class with that name\n",
    "    for x in articles:\n",
    "        article_list.append(x.text)\n",
    "\n",
    "    for y in article_list:\n",
    "        main_dict ={}\n",
    "        if y[:11] == \"InSight sol\":\n",
    "            latest_tweet = y\n",
    "            main_dict[\"last_tweet\"] = latest_tweet\n",
    "            print(latest_tweet)\n",
    "            break\n",
    "        else:\n",
    "            latest_tweet = \"None\""
   ]
  },
  {
   "cell_type": "markdown",
   "metadata": {},
   "source": [
    "#### Mars Facts"
   ]
  },
  {
   "cell_type": "code",
   "execution_count": 20,
   "metadata": {},
   "outputs": [
    {
     "data": {
      "text/html": [
       "<div>\n",
       "<style scoped>\n",
       "    .dataframe tbody tr th:only-of-type {\n",
       "        vertical-align: middle;\n",
       "    }\n",
       "\n",
       "    .dataframe tbody tr th {\n",
       "        vertical-align: top;\n",
       "    }\n",
       "\n",
       "    .dataframe thead th {\n",
       "        text-align: right;\n",
       "    }\n",
       "</style>\n",
       "<table border=\"1\" class=\"dataframe\">\n",
       "  <thead>\n",
       "    <tr style=\"text-align: right;\">\n",
       "      <th></th>\n",
       "      <th>Value</th>\n",
       "    </tr>\n",
       "    <tr>\n",
       "      <th>Variable</th>\n",
       "      <th></th>\n",
       "    </tr>\n",
       "  </thead>\n",
       "  <tbody>\n",
       "    <tr>\n",
       "      <th>Equatorial Diameter:</th>\n",
       "      <td>6,792 km</td>\n",
       "    </tr>\n",
       "    <tr>\n",
       "      <th>Polar Diameter:</th>\n",
       "      <td>6,752 km</td>\n",
       "    </tr>\n",
       "    <tr>\n",
       "      <th>Mass:</th>\n",
       "      <td>6.39 × 10^23 kg (0.11 Earths)</td>\n",
       "    </tr>\n",
       "    <tr>\n",
       "      <th>Moons:</th>\n",
       "      <td>2 (Phobos &amp; Deimos)</td>\n",
       "    </tr>\n",
       "    <tr>\n",
       "      <th>Orbit Distance:</th>\n",
       "      <td>227,943,824 km (1.38 AU)</td>\n",
       "    </tr>\n",
       "    <tr>\n",
       "      <th>Orbit Period:</th>\n",
       "      <td>687 days (1.9 years)</td>\n",
       "    </tr>\n",
       "    <tr>\n",
       "      <th>Surface Temperature:</th>\n",
       "      <td>-87 to -5 °C</td>\n",
       "    </tr>\n",
       "    <tr>\n",
       "      <th>First Record:</th>\n",
       "      <td>2nd millennium BC</td>\n",
       "    </tr>\n",
       "    <tr>\n",
       "      <th>Recorded By:</th>\n",
       "      <td>Egyptian astronomers</td>\n",
       "    </tr>\n",
       "  </tbody>\n",
       "</table>\n",
       "</div>"
      ],
      "text/plain": [
       "                                              Value\n",
       "Variable                                           \n",
       "Equatorial Diameter:                       6,792 km\n",
       "Polar Diameter:                            6,752 km\n",
       "Mass:                 6.39 × 10^23 kg (0.11 Earths)\n",
       "Moons:                          2 (Phobos & Deimos)\n",
       "Orbit Distance:            227,943,824 km (1.38 AU)\n",
       "Orbit Period:                  687 days (1.9 years)\n",
       "Surface Temperature:                   -87 to -5 °C\n",
       "First Record:                     2nd millennium BC\n",
       "Recorded By:                   Egyptian astronomers"
      ]
     },
     "execution_count": 20,
     "metadata": {},
     "output_type": "execute_result"
    }
   ],
   "source": [
    "# Visit the Mars Facts webpage here and use Pandas to scrape the table \n",
    "# containing facts about the planet including Diameter, Mass, etc.\n",
    "url4 = \"https://space-facts.com/mars/\"\n",
    "facts = pd.read_html(url4)[0]\n",
    "facts.columns=[\"Variable\", \"Value\"]\n",
    "facts.set_index(\"Variable\")"
   ]
  },
  {
   "cell_type": "markdown",
   "metadata": {},
   "source": [
    "#### Mars Hemispheres"
   ]
  },
  {
   "cell_type": "code",
   "execution_count": 21,
   "metadata": {},
   "outputs": [],
   "source": [
    "# obtain high resolution images for each of Mar's hemispheres.\n",
    "# ou will need to click each of the links to the hemispheres \n",
    "# in order to find the image url to the full resolution image\n",
    "url5 = \"https://astrogeology.usgs.gov/search/results?q=hemisphere+enhanced&k1=target&v1=Mars\"\n",
    "browser.visit(url5)\n",
    "html5 = browser.html\n",
    "soup5 = bs(html5, \"html.parser\")\n",
    "results = soup5.find_all(\"div\",class_=\"item\")"
   ]
  },
  {
   "cell_type": "code",
   "execution_count": 24,
   "metadata": {},
   "outputs": [
    {
     "name": "stdout",
     "output_type": "stream",
     "text": [
      "--------------\n",
      "Cerberus Hemisphere Enhanced\n",
      "https://astrogeology.usgs.gov//search/map/Mars/Viking/cerberus_enhanced\n",
      "--------------\n",
      "Schiaparelli Hemisphere Enhanced\n",
      "https://astrogeology.usgs.gov//search/map/Mars/Viking/schiaparelli_enhanced\n",
      "--------------\n",
      "Syrtis Major Hemisphere Enhanced\n",
      "https://astrogeology.usgs.gov//search/map/Mars/Viking/syrtis_major_enhanced\n",
      "--------------\n",
      "Valles Marineris Hemisphere Enhanced\n",
      "https://astrogeology.usgs.gov//search/map/Mars/Viking/valles_marineris_enhanced\n"
     ]
    }
   ],
   "source": [
    "# Dictionary with the image url string and the hemisphere title to a list\n",
    "\n",
    "hemisphere_image_urls = []\n",
    "\n",
    "for img in results:\n",
    "    hemispher={}\n",
    "    title=img.find(\"div\", class_=\"description\")\n",
    "    img_url=img.a[\"href\"]\n",
    "    print(\"--------------\")\n",
    "    print(title.a.text)\n",
    "    print(f\"https://astrogeology.usgs.gov/{img_url}\")\n",
    "    hemispher[\"title\"]=title.a.text\n",
    "    hemispher[\"img_url\"]=f\"https://astrogeology.usgs.gov{img_url}\"\n",
    "    hemisphere_image_urls.append(hemispher)"
   ]
  }
 ],
 "metadata": {
  "kernelspec": {
   "display_name": "Python 3",
   "language": "python",
   "name": "python3"
  },
  "language_info": {
   "codemirror_mode": {
    "name": "ipython",
    "version": 3
   },
   "file_extension": ".py",
   "mimetype": "text/x-python",
   "name": "python",
   "nbconvert_exporter": "python",
   "pygments_lexer": "ipython3",
   "version": "3.7.4"
  }
 },
 "nbformat": 4,
 "nbformat_minor": 4
}
